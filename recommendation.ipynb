{
 "cells": [
  {
   "cell_type": "markdown",
   "metadata": {},
   "source": [
    "### This is Movies Recommendation System based on:\n",
    "*   Content-based Recommendation System\n",
    "*   Popularity-based Recommendation System\n",
    "\n"
   ]
  },
  {
   "cell_type": "markdown",
   "metadata": {},
   "source": [
    "#### Workflow\n",
    "*   data collection\n",
    "*   data preprocessing\n",
    "*   feature extraction\n",
    "\n",
    "then followed by, \n",
    "*   user input\n",
    "*   cosine algorithm\n",
    "* user output"
   ]
  },
  {
   "cell_type": "code",
   "execution_count": 4,
   "metadata": {},
   "outputs": [],
   "source": [
    "# importing the dependencies\n",
    "import numpy as np\n",
    "import pandas as pd\n",
    "\n",
    "# for ease of predicting output ~determining the closest match\n",
    "import difflib\n",
    "\n",
    "# tolo convert textual values to the numerical values\n",
    "from sklearn.feature_extraction.text import TfidfVectorizer\n",
    "\n",
    "# to find the user's movie similarity score with the movies already in the dataset\n",
    "from sklearn.metrics.pairwise import cosine_similarity"
   ]
  },
  {
   "cell_type": "code",
   "execution_count": null,
   "metadata": {},
   "outputs": [],
   "source": []
  }
 ],
 "metadata": {
  "kernelspec": {
   "display_name": "env",
   "language": "python",
   "name": "python3"
  },
  "language_info": {
   "codemirror_mode": {
    "name": "ipython",
    "version": 3
   },
   "file_extension": ".py",
   "mimetype": "text/x-python",
   "name": "python",
   "nbconvert_exporter": "python",
   "pygments_lexer": "ipython3",
   "version": "3.11.5"
  }
 },
 "nbformat": 4,
 "nbformat_minor": 2
}
